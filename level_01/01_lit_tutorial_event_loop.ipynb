{
  "nbformat": 4,
  "nbformat_minor": 0,
  "metadata": {
    "colab": {
      "name": "01-lit-tutorial-event-loop.ipynb",
      "provenance": [],
      "authorship_tag": "ABX9TyN8gQ2XRZuPsd31jh74zaui",
      "include_colab_link": true
    },
    "kernelspec": {
      "name": "python3",
      "display_name": "Python 3"
    },
    "language_info": {
      "name": "python"
    }
  },
  "cells": [
    {
      "cell_type": "markdown",
      "metadata": {
        "id": "view-in-github",
        "colab_type": "text"
      },
      "source": [
        "<a href=\"https://colab.research.google.com/github/robert-s-lee/lit_tutorial/blob/main/level_01/01_lit_tutorial_event_loop.ipynb\" target=\"_parent\"><img src=\"https://colab.research.google.com/assets/colab-badge.svg\" alt=\"Open In Colab\"/></a>"
      ]
    },
    {
      "cell_type": "markdown",
      "source": [
        "Welcome to [Lighting App](https://lightning.ai/) Tutorial.  We will write a simple `Hello World` Lightning App.  The objetive is to be able to run this tutorial in a Notebook.  Don't worry if some of the concepts are not familiar."
      ],
      "metadata": {
        "id": "r_t7koDVrsl9"
      }
    },
    {
      "cell_type": "code",
      "execution_count": null,
      "metadata": {
        "id": "o-g4MZZpLZoY"
      },
      "outputs": [],
      "source": [
        "!pip install lightning"
      ]
    },
    {
      "cell_type": "markdown",
      "source": [
        "The app will print `Hello world from infinite event loop` continuiosuly.\n"
      ],
      "metadata": {
        "id": "vWVjne8sv4hZ"
      }
    },
    {
      "cell_type": "code",
      "source": [
        "import lightning as L\n",
        "# basic hello World\n",
        "class Flow(L.LightningFlow):\n",
        "    def run(self):\n",
        "        print(\"Hello world from infinite event loop\")\n",
        "app = L.LightningApp(Flow())        "
      ],
      "metadata": {
        "id": "tKfCVw0Ve1MQ"
      },
      "execution_count": 9,
      "outputs": []
    },
    {
      "cell_type": "markdown",
      "source": [
        "Run the Lightning App inside the Notebook. Press `Stop` to stop the run.\n"
      ],
      "metadata": {
        "id": "qyWz7Ii9qVpC"
      }
    },
    {
      "cell_type": "code",
      "source": [
        "from lightning.app.runners import MultiProcessRuntime\n",
        "MultiProcessRuntime(app).dispatch()"
      ],
      "metadata": {
        "id": "uQoBmdoTfEcO"
      },
      "execution_count": null,
      "outputs": []
    }
  ]
}