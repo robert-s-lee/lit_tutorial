{
  "cells": [
    {
      "cell_type": "markdown",
      "metadata": {
        "colab_type": "text",
        "id": "view-in-github"
      },
      "source": [
        "<a href=\"https://colab.research.google.com/github/robert-s-lee/lit_tutorial/blob/main/level_01/01_lit_tutorial_event_loop.ipynb\" target=\"_parent\"><img src=\"https://colab.research.google.com/assets/colab-badge.svg\" alt=\"Open In Colab\"/></a>"
      ]
    },
    {
      "cell_type": "markdown",
      "metadata": {},
      "source": []
    },
    {
      "cell_type": "markdown",
      "metadata": {
        "id": "r_t7koDVrsl9"
      },
      "source": [
        "Welcome to one [Lighting App](https://lightning.ai/) per day tutorial.  Today, we will write a simple `Hello World` Lightning App.  The objective is to be able to run this tutorial in a Notebook.  Don't worry if some of the concepts are not familiar."
      ]
    },
    {
      "cell_type": "markdown",
      "metadata": {},
      "source": [
        "Install Lightning"
      ]
    },
    {
      "cell_type": "code",
      "execution_count": null,
      "metadata": {
        "id": "o-g4MZZpLZoY"
      },
      "outputs": [],
      "source": [
        "!pip install lightning"
      ]
    },
    {
      "cell_type": "markdown",
      "metadata": {
        "id": "vWVjne8sv4hZ"
      },
      "source": [
        "The app will print `Hello world from infinite event loop` continuously.  Please check the inspiration and the reason behind the [event loop](https://lightning.ai/lightning-docs/glossary/event_loop.html?highlight=event%20loop)."
      ]
    },
    {
      "cell_type": "code",
      "execution_count": null,
      "metadata": {
        "id": "tKfCVw0Ve1MQ"
      },
      "outputs": [],
      "source": [
        "import lightning as L\n",
        "# basic hello World\n",
        "class Flow(L.LightningFlow):\n",
        "    def run(self):\n",
        "        print(\"Hello world from infinite event loop\")\n",
        "app = L.LightningApp(Flow())        "
      ]
    },
    {
      "cell_type": "markdown",
      "metadata": {
        "id": "qyWz7Ii9qVpC"
      },
      "source": [
        "Run the Lightning App inside the Notebook. Press `Stop` to stop the run.\n"
      ]
    },
    {
      "cell_type": "code",
      "execution_count": null,
      "metadata": {
        "id": "uQoBmdoTfEcO"
      },
      "outputs": [],
      "source": [
        "from lightning.app.runners import MultiProcessRuntime\n",
        "MultiProcessRuntime(app).dispatch()"
      ]
    }
  ],
  "metadata": {
    "colab": {
      "authorship_tag": "ABX9TyN9bkNG/pr0Zo0av5hWIgwB",
      "include_colab_link": true,
      "name": "01-lit-tutorial-event-loop.ipynb",
      "provenance": []
    },
    "kernelspec": {
      "display_name": "Python 3",
      "name": "python3"
    },
    "language_info": {
      "name": "python"
    }
  },
  "nbformat": 4,
  "nbformat_minor": 0
}
